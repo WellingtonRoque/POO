{
  "nbformat": 4,
  "nbformat_minor": 0,
  "metadata": {
    "colab": {
      "provenance": [],
      "authorship_tag": "ABX9TyN+f6do9C43Q3q5YKQ8P8Wa",
      "include_colab_link": true
    },
    "kernelspec": {
      "name": "python3",
      "display_name": "Python 3"
    },
    "language_info": {
      "name": "python"
    }
  },
  "cells": [
    {
      "cell_type": "markdown",
      "metadata": {
        "id": "view-in-github",
        "colab_type": "text"
      },
      "source": [
        "<a href=\"https://colab.research.google.com/github/WellingtonRoque/POO/blob/main/Aula2.ipynb\" target=\"_parent\"><img src=\"https://colab.research.google.com/assets/colab-badge.svg\" alt=\"Open In Colab\"/></a>"
      ]
    },
    {
      "cell_type": "markdown",
      "source": [
        "**Objetivo da Aula**\n",
        "\n",
        "* Introduzir o conceito de estruturas de decisão.\n",
        "* Ensinar como utilizar a estrutura if-else e if-else aninhados para tomar decisões em um programa Python.\n",
        "*Praticar a criação de programas simples que utilizam if-else e if-else aninhados.\n",
        "\n",
        "**Conteúdo Programático**\n",
        "\n",
        "**Introdução à Estrutura de Decisão**\n",
        "\n",
        "O que são estruturas de decisão?\n",
        "Importância das estruturas de decisão em programação.\n",
        "Exemplos do mundo real: tomadas de decisão.\n",
        "\n",
        "\n",
        "**Conceito da Estrutura if**\n",
        "\n",
        "**Sintaxe básica do if.**\n",
        "\n",
        "Como o Python avalia expressões condicionais (verdadeiras ou falsas).\n",
        "\n",
        "**Exemplos simples de if em Python.**"
      ],
      "metadata": {
        "id": "8Rz2WnP9D68d"
      }
    },
    {
      "cell_type": "code",
      "execution_count": null,
      "metadata": {
        "colab": {
          "base_uri": "https://localhost:8080/"
        },
        "id": "krcy3WQSD15_",
        "outputId": "67910b2d-1199-4083-ce20-282b917db3ec"
      },
      "outputs": [
        {
          "output_type": "stream",
          "name": "stdout",
          "text": [
            "x é maior que 5\n"
          ]
        }
      ],
      "source": [
        "x = 10\n",
        "if x > 5:\n",
        "    print(\"x é maior que 5\")"
      ]
    },
    {
      "cell_type": "markdown",
      "source": [
        "**Estrutura else**\n",
        "\n",
        "* Como adicionar uma alternativa usando else.\n",
        "* Sintaxe e funcionamento do else.\n",
        "* Exemplos práticos"
      ],
      "metadata": {
        "id": "RnrxWAt1F7GU"
      }
    },
    {
      "cell_type": "code",
      "source": [
        "x = 3\n",
        "if x > 5:\n",
        "    print(\"x é maior que 5\")\n",
        "else:\n",
        "    print(\"x é menor ou igual a 5\")"
      ],
      "metadata": {
        "colab": {
          "base_uri": "https://localhost:8080/"
        },
        "id": "Ju8eNcP9GJEi",
        "outputId": "bb240e59-a30e-4471-dcbc-8717947470a2"
      },
      "execution_count": null,
      "outputs": [
        {
          "output_type": "stream",
          "name": "stdout",
          "text": [
            "x é menor ou igual a 5\n"
          ]
        }
      ]
    },
    {
      "cell_type": "markdown",
      "source": [
        "**Uso do elif**\n",
        "\n",
        "* Introdução ao elif (else if).\n",
        "* Quando utilizar o elif.\n",
        "* Estrutura condicional com múltiplos casos"
      ],
      "metadata": {
        "id": "FalRnd_nGQpo"
      }
    },
    {
      "cell_type": "code",
      "source": [
        "x = 7\n",
        "if x > 10:\n",
        "    print(\"x é maior que 10\")\n",
        "elif x > 5:\n",
        "    print(\"x é maior que 5, mas menor ou igual a 10\")\n",
        "else:\n",
        "    print(\"x é menor ou igual a 5\")"
      ],
      "metadata": {
        "colab": {
          "base_uri": "https://localhost:8080/"
        },
        "id": "ybVylSxeGUSg",
        "outputId": "a0d07ab5-cc8a-47a8-fd34-1862943ebf48"
      },
      "execution_count": null,
      "outputs": [
        {
          "output_type": "stream",
          "name": "stdout",
          "text": [
            "x é maior que 5, mas menor ou igual a 10\n"
          ]
        }
      ]
    },
    {
      "cell_type": "markdown",
      "source": [
        "**Estruturas de Decisão Aninhadas**\n",
        "\n",
        "* O que é if-else aninhado?\n",
        "* Definição: Colocar uma estrutura if-else dentro de outra.\n",
        "* Quando e por que usar if-else aninhado.\n",
        "\n",
        "**Sintaxe e Funcionamento**\n",
        "* Demonstração de como construir um if-else aninhado.\n",
        "* Exemplos Práticos de if-else Aninhado"
      ],
      "metadata": {
        "id": "wNHTxPFrGf9P"
      }
    },
    {
      "cell_type": "code",
      "source": [
        "nota = 7\n",
        "faltas = 3\n",
        "if nota >= 6:\n",
        "    if faltas <= 5:\n",
        "        print(\"Aprovado\")\n",
        "    else:\n",
        "        print(\"Reprovado por faltas\")\n",
        "else:\n",
        "    print(\"Reprovado por nota\")\n"
      ],
      "metadata": {
        "colab": {
          "base_uri": "https://localhost:8080/"
        },
        "id": "9Wouv4jkHsWc",
        "outputId": "58659a93-66d3-486b-8b5a-34033a331811"
      },
      "execution_count": null,
      "outputs": [
        {
          "output_type": "stream",
          "name": "stdout",
          "text": [
            "Aprovado\n"
          ]
        }
      ]
    },
    {
      "cell_type": "markdown",
      "source": [
        "**Aplicações Práticas**\n",
        "\n",
        "* Exemplo 1: Verificar se um número é par ou ímpar.\n",
        "* Exemplo 2: Verificar a faixa etária de uma pessoa.\n",
        "* Exemplo 3: Simulação de um simples sistema de login"
      ],
      "metadata": {
        "id": "4XGPTlV_H7WD"
      }
    },
    {
      "cell_type": "code",
      "source": [
        "# Exemplo de número par ou ímpar\n",
        "numero = int(input(\"Digite um número: \"))\n",
        "if numero % 2 == 0:\n",
        "    print(\"O número é par.\")\n",
        "else:\n",
        "    print(\"O número é ímpar.\")\n"
      ],
      "metadata": {
        "id": "k7-5UFpwIAlp"
      },
      "execution_count": null,
      "outputs": []
    },
    {
      "cell_type": "markdown",
      "source": [
        "**Prática Guiada**\n",
        "\n",
        "* Atividade 1: Escreva um programa que classifique uma nota de 0 a 100 em \"Aprovado\" ou \"Reprovado\" usando if-else.\n",
        "* Atividade 2: Crie um programa que peça ao usuário para inserir um número e informe se ele é positivo, negativo ou zero.\n",
        "* Atividade 3: Usando if-else aninhado, crie um programa que peça ao usuário para inserir sua idade e sua nota em um teste. Informe se ele pode participar de uma atividade especial (exemplo: se for maior de 18 anos e a nota for maior que 70)."
      ],
      "metadata": {
        "id": "nXbuV0S4IJFh"
      }
    },
    {
      "cell_type": "markdown",
      "source": [
        "**Lista de Exercicio**\n",
        "\n",
        "1. Receba dois números do usuário e mostre qual deles é o maior.\n",
        "\n",
        "2. Solicite a idade do usuário e informe se ele é menor de idade, maior de idade ou idoso (considerando 18 e 65 anos como limites).\n",
        "\n",
        "3. Peça ao usuário para inserir a idade de uma pessoa e classifique-a como \"Criança\" (0-12 anos), \"Adolescente\" (13-17 anos), \"Adulto\" (18-64 anos) ou \"Idoso\" (65+ anos).\n",
        "\n",
        "4. Escreva um programa que receba um número e informe se ele é divisível por 3, por 5, por ambos ou por nenhum.\n",
        "\n",
        "5. Crie uma calculadora simples que permita ao usuário escolher uma operação (adição, subtração, multiplicação ou divisão) e dois números, e então exiba o resultado.\n",
        "\n",
        "6. Peça um número ao usuário e informe se ele é par ou ímpar, e se está entre 1 e 100.\n",
        "\n",
        "7. Crie um programa que simule um sistema de login. Solicite um nome de usuário e senha e verifique se as credenciais estão corretas.\n",
        "\n",
        "8. Receba a nota de um aluno e classifique-a como A (90-100), B (80-89), C (70-79), D (60-69), ou F (menos de 60).\n",
        "\n",
        "9. Peça ao usuário seu peso e altura, calcule o Índice de Massa Corporal (IMC) e classifique-o como \"Abaixo do peso\", \"Peso normal\", \"Sobrepeso\" ou \"Obesidade\".\n",
        "\n",
        "10. Solicite o preço de um produto e aplique um desconto de 10% se o preço for maior que R$ 100. Exiba o valor final.\n",
        "\n",
        "11. Desenvolva um programa que permita ao usuário escolher uma operação (saque, depósito) e simule o comportamento de um caixa eletrônico com validações básicas (ex.: saldo insuficiente para saque).\n",
        "\n",
        "12. Escreva um programa que calcule a média ponderada de um conjunto de notas. Peça ao usuário as notas e os pesos correspondentes. Use if-else para verificar se o peso total é igual a 100%.\n",
        "\n",
        "\n",
        "\n",
        "**Desafio: Jogo de Adivinhação**\n",
        "\n",
        "Desenvolva um jogo de adivinhação onde o programa escolhe um número aleatório entre 1 e 100, e o usuário tem que adivinhar o número. Para cada palpite, o programa deve informar se o número é maior ou menor do que o palpite. Se o usuário acertar, o programa deve parabenizá-lo e mostrar quantas tentativas foram necessárias.\n",
        "\n"
      ],
      "metadata": {
        "id": "cBXUbbxzD-HQ"
      }
    }
  ]
}